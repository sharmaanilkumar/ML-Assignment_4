{
 "cells": [
  {
   "cell_type": "code",
   "execution_count": 1,
   "metadata": {
    "colab": {},
    "colab_type": "code",
    "id": "597wDiAvGvuB"
   },
   "outputs": [],
   "source": [
    "import numpy as np\n",
    "import idx2numpy\n",
    "import matplotlib.pyplot as plt\n",
    "%matplotlib inline\n"
   ]
  },
  {
   "cell_type": "code",
   "execution_count": 2,
   "metadata": {},
   "outputs": [],
   "source": [
    "file = 'train-images-idx3-ubyte'\n",
    "arr = idx2numpy.convert_from_file(file)\n",
    "file1 = 'train-labels-idx1-ubyte'\n",
    "arr1 = idx2numpy.convert_from_file(file1)"
   ]
  },
  {
   "cell_type": "code",
   "execution_count": 3,
   "metadata": {},
   "outputs": [
    {
     "name": "stdout",
     "output_type": "stream",
     "text": [
      "Number of training examples: 60000\n"
     ]
    }
   ],
   "source": [
    "x_train = arr\n",
    "x_train = x_train.flatten().reshape(-1,28*28)\n",
    "x_train = x_train / 255.0\n",
    "gt_indices = arr1\n",
    "train_length = len(x_train)\n",
    "print(\"Number of training examples: {:d}\".format(train_length))"
   ]
  },
  {
   "cell_type": "code",
   "execution_count": 4,
   "metadata": {},
   "outputs": [],
   "source": [
    "'''Dimensions to be used for creating your model'''\n",
    "\n",
    "batch_size = 64  # batch size\n",
    "input_dim = 784  # input dimension\n",
    "hidden_1_dim = 512  # hidden layer 2 dimension\n",
    "output_dim = 10   # output dimension\n",
    "\n",
    "'''Other hyperparameters'''\n",
    "learning_rate = 1e-2"
   ]
  },
  {
   "cell_type": "code",
   "execution_count": null,
   "metadata": {
    "colab": {},
    "colab_type": "code",
    "id": "LvVFhXNB5xrD"
   },
   "outputs": [],
   "source": []
  },
  {
   "cell_type": "code",
   "execution_count": 5,
   "metadata": {
    "colab": {},
    "colab_type": "code",
    "id": "hImaaujc5zXg"
   },
   "outputs": [],
   "source": [
    "#creating one hot vector representation of output classification\n",
    "y_train = np.zeros((train_length, output_dim))\n",
    "# print(y.shape, gt_indices.shape)\n",
    "for i in range(train_length):\n",
    "    y_train[i,gt_indices[i]] = 1\n",
    "\n",
    "# Number of mini-batches (as integer) in one epoch\n",
    "num_minibatches = np.floor(train_length/batch_size).astype(int) "
   ]
  },
  {
   "cell_type": "code",
   "execution_count": 6,
   "metadata": {
    "colab": {
     "base_uri": "https://localhost:8080/",
     "height": 34
    },
    "colab_type": "code",
    "id": "W7lHWEWVaVlK",
    "outputId": "4ecb1bfc-4568-44cb-e109-57677da50eb7"
   },
   "outputs": [
    {
     "name": "stdout",
     "output_type": "stream",
     "text": [
      "No of mini-batches 937 and total training data used in training:59968.\n"
     ]
    }
   ],
   "source": [
    "print(\"No of mini-batches {:d} and total training data used in training:\\\n",
    "{}.\".format(num_minibatches, num_minibatches*batch_size))"
   ]
  },
  {
   "cell_type": "code",
   "execution_count": 7,
   "metadata": {
    "colab": {},
    "colab_type": "code",
    "id": "C9HRf0Wj52cK"
   },
   "outputs": [],
   "source": [
    "###############################################################################################\n",
    "W1 = 0.2*np.random.randn(input_dim, hidden_1_dim)\n",
    "W2 = 0.2*np.random.randn(hidden_1_dim,output_dim)\n",
    "###############################################################################################"
   ]
  },
  {
   "cell_type": "code",
   "execution_count": 8,
   "metadata": {},
   "outputs": [],
   "source": [
    "def relu(a):\n",
    "    return np.maximum(a,0)\n",
    "\n",
    "def grad_relu(x):\n",
    "    return 1. * (x > 0)"
   ]
  },
  {
   "cell_type": "code",
   "execution_count": 9,
   "metadata": {
    "colab": {},
    "colab_type": "code",
    "id": "PmZRrEVb6CJy"
   },
   "outputs": [],
   "source": [
    "# function which computes the softmax where X is vector of scores computed during forward pass\n",
    "def softmax(z):\n",
    "  \n",
    "    return np.exp(z) / np.sum(np.exp(z),axis=1,keepdims=True)\n",
    "    \n",
    "    pass\n"
   ]
  },
  {
   "cell_type": "code",
   "execution_count": 10,
   "metadata": {
    "colab": {
     "base_uri": "https://localhost:8080/",
     "height": 697
    },
    "colab_type": "code",
    "id": "Gjz4yhwE6JQw",
    "outputId": "341578db-29a4-48ca-b0f8-a0343aadd24b"
   },
   "outputs": [
    {
     "name": "stdout",
     "output_type": "stream",
     "text": [
      " Epoch: 0, iteration: 0, Loss: 8.0226 \n",
      " Epoch: 1, iteration: 937, Loss: 0.1081 \n",
      " Epoch: 2, iteration: 1874, Loss: 0.0274 \n",
      " Epoch: 3, iteration: 2811, Loss: 0.0187 \n",
      " Epoch: 4, iteration: 3748, Loss: 0.0117 \n",
      " Epoch: 5, iteration: 4685, Loss: 0.0073 \n",
      " Epoch: 6, iteration: 5622, Loss: 0.0064 \n",
      " Epoch: 7, iteration: 6559, Loss: 0.0050 \n",
      " Epoch: 8, iteration: 7496, Loss: 0.0045 \n",
      " Epoch: 9, iteration: 8433, Loss: 0.0025 \n",
      " Epoch: 10, iteration: 9370, Loss: 0.0034 \n",
      " Epoch: 11, iteration: 10307, Loss: 0.0036 \n",
      " Epoch: 12, iteration: 11244, Loss: 0.0036 \n",
      " Epoch: 13, iteration: 12181, Loss: 0.0035 \n",
      " Epoch: 14, iteration: 13118, Loss: 0.0033 \n",
      " Epoch: 15, iteration: 14055, Loss: 0.0032 \n",
      " Epoch: 16, iteration: 14992, Loss: 0.0031 \n",
      " Epoch: 17, iteration: 15929, Loss: 0.0029 \n",
      " Epoch: 18, iteration: 16866, Loss: 0.0029 \n",
      " Epoch: 19, iteration: 17803, Loss: 0.0028 \n",
      " Epoch: 20, iteration: 18740, Loss: 0.0027 \n",
      " Epoch: 21, iteration: 19677, Loss: 0.0027 \n",
      " Epoch: 22, iteration: 20614, Loss: 0.0027 \n",
      " Epoch: 23, iteration: 21551, Loss: 0.0027 \n",
      " Epoch: 24, iteration: 22488, Loss: 0.0027 \n",
      " Epoch: 25, iteration: 23425, Loss: 0.0027 \n",
      " Epoch: 26, iteration: 24362, Loss: 0.0027 \n"
     ]
    },
    {
     "data": {
      "image/png": "[encoded data removed]",
      "text/plain": [
       "<Figure size 720x360 with 1 Axes>"
      ]
     },
     "metadata": {
      "needs_background": "light"
     },
     "output_type": "display_data"
    }
   ],
   "source": [
    "no_of_iterations = 25000\n",
    "loss_list=[]\n",
    "i_epoch = 0\n",
    "for i_iter in range(no_of_iterations):\n",
    "    \n",
    "    ''''''\n",
    "    batch_elem_idx = i_iter%num_minibatches\n",
    "    x_batchinput = x_train[batch_elem_idx*batch_size:(batch_elem_idx+1)*batch_size]\n",
    "    \n",
    "   # first hidden layer implementation\n",
    "    a1 =x_batchinput@W1\n",
    "  \n",
    "    # implement Relu layer\n",
    "    h1 =relu(a1)\n",
    "    #  implement  hidden layer\n",
    "    a2 = h1@W2\n",
    "    \n",
    "    # softmax layer\n",
    "    softmax_score = softmax(a2) #enusre you have implemented the softmax function defined above\n",
    "\n",
    "    neg_log_softmax_score = -np.log(softmax_score+0.00000001) # The small number is added to avoid 0 input to log function\n",
    "    \n",
    "    # Compute and print loss\n",
    "    if i_iter%num_minibatches == 0:\n",
    "        loss = np.mean(np.diag(np.take(neg_log_softmax_score, gt_indices[batch_elem_idx*batch_size:(batch_elem_idx+1)*batch_size],\\\n",
    "                                       axis=1)))\n",
    "        print(\" Epoch: {:d}, iteration: {:d}, Loss: {:6.4f} \".format(i_epoch, i_iter, loss))\n",
    "        loss_list.append(loss)\n",
    "        i_epoch += 1\n",
    "        # Each 10th epoch reduce learning rate by a factor of 10\n",
    "        if i_epoch%10 == 0:\n",
    "            learning_rate /= 10.0\n",
    "     \n",
    "    \n",
    "    \n",
    "    gradsoft = softmax_score-y_train[batch_elem_idx*batch_size:(batch_elem_idx+1)*batch_size]\n",
    "    \n",
    "    # gradient w.r.t W3\n",
    "    grad_W2 = np.transpose(h1)@gradsoft\n",
    "   \n",
    "    # gradient w.r.t h1\n",
    "    grad_h1 = gradsoft@np.transpose(W2)\n",
    "    \n",
    "    # gradient w.r.t a1\n",
    "    grad_a1 = grad_h1*grad_relu(a1)\n",
    "    \n",
    "    # gradient w.r.t W1\n",
    "    grad_W1 = x_batchinput.T@grad_a1\n",
    "    \n",
    "    ################################ Update Weights Block using SGD ####################################\n",
    "    W2 -= learning_rate * grad_W2\n",
    "    W1 -= learning_rate * grad_W1\n",
    "    ####################################################################################################\n",
    "    \n",
    "#plotting the loss\n",
    "plt.figure(figsize=(10,5))\n",
    "plt.plot(loss_list)\n",
    "plt.title('Loss vs epochs')\n",
    "plt.xlabel('epochs')\n",
    "plt.ylabel('Loss')\n",
    "plt.show()"
   ]
  },
  {
   "cell_type": "code",
   "execution_count": null,
   "metadata": {},
   "outputs": [],
   "source": []
  },
  {
   "cell_type": "code",
   "execution_count": 11,
   "metadata": {},
   "outputs": [],
   "source": [
    "file2 = 't10k-images-idx3-ubyte'\n",
    "arr2 = idx2numpy.convert_from_file(file2)\n",
    "file3 = 't10k-labels-idx1-ubyte'\n",
    "arr3 = idx2numpy.convert_from_file(file3)"
   ]
  },
  {
   "cell_type": "code",
   "execution_count": 12,
   "metadata": {},
   "outputs": [],
   "source": [
    "'''Loading the test data from data/X_test.npy and data/y_test.npy.'''\n",
    "x_test = arr2\n",
    "x_test = x_test.flatten().reshape(-1,28*28)\n",
    "x_test = x_test / 255.0\n",
    "y_test = arr3"
   ]
  },
  {
   "cell_type": "code",
   "execution_count": 13,
   "metadata": {},
   "outputs": [
    {
     "name": "stdout",
     "output_type": "stream",
     "text": [
      "Test accuracy is 97.87 %\n"
     ]
    }
   ],
   "source": [
    "batch_size_test = 100 # Deliberately taken 100 so that it divides the test data size\n",
    "num_minibatches = len(y_test)/batch_size_test\n",
    "test_correct = 0\n",
    "\n",
    "'''Only forward block code and compute softmax_score .'''\n",
    "for i_iter in range(int(num_minibatches)):\n",
    "    \n",
    "    '''Get one minibatch'''\n",
    "    batch_elem_idx = i_iter%num_minibatches\n",
    "    x_batchinput = x_test[i_iter*batch_size_test:(i_iter+1)*batch_size_test]\n",
    "    \n",
    "    ######### copy only the forward pass block of your code and pass the x_batchinput to it and compute softmax_score ##########\n",
    "    a1 =x_batchinput@W1\n",
    "  \n",
    "    # implement Relu layer\n",
    "    h1 =relu(a1)\n",
    "    #  implement 2 hidden layer\n",
    "    a2 = h1@W2\n",
    "   \n",
    "    # softmax layer\n",
    "    softmax_score = softmax(a2) #Implemented the softmax function defined above\n",
    "    \n",
    "    \n",
    "    y_batchinput = y_test[i_iter*batch_size_test:(i_iter+1)*batch_size_test]\n",
    "    \n",
    "    y_pred = np.argmax(softmax_score, axis=1)\n",
    "    num_correct_i_iter = np.sum(y_pred == y_batchinput)\n",
    "    test_correct += num_correct_i_iter\n",
    "print (\"Test accuracy is {:4.2f} %\".format(test_correct/len(y_test)*100))"
   ]
  },
  {
   "cell_type": "code",
   "execution_count": null,
   "metadata": {},
   "outputs": [],
   "source": []
  },
  {
   "cell_type": "code",
   "execution_count": null,
   "metadata": {},
   "outputs": [],
   "source": []
  },
  {
   "cell_type": "code",
   "execution_count": null,
   "metadata": {},
   "outputs": [],
   "source": []
  }
 ],
 "metadata": {
  "colab": {
   "collapsed_sections": [],
   "name": "2_Hidden_MLP_New.ipynb",
   "provenance": [],
   "version": "0.3.2"
  },
  "kernelspec": {
   "display_name": "Python 3",
   "language": "python",
   "name": "python3"
  },
  "language_info": {
   "codemirror_mode": {
    "name": "ipython",
    "version": 3
   },
   "file_extension": ".py",
   "mimetype": "text/x-python",
   "name": "python",
   "nbconvert_exporter": "python",
   "pygments_lexer": "ipython3",
   "version": "3.7.3"
  }
 },
 "nbformat": 4,
 "nbformat_minor": 2
}
